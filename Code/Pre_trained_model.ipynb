{
  "cells": [
    {
      "cell_type": "code",
      "execution_count": null,
      "id": "4f4c0827-f447-4c0b-be07-2f7d8583c438",
      "metadata": {
        "id": "4f4c0827-f447-4c0b-be07-2f7d8583c438",
        "scrolled": true
      },
      "outputs": [],
      "source": [
        "# Importy knihoven pro práci s obrázky a modelem\n",
        "import os\n",
        "from PIL import Image\n",
        "import tensorflow as tf\n",
        "from tensorflow.keras.applications.resnet50 import ResNet50, preprocess_input\n",
        "from tensorflow.keras.layers import GlobalAveragePooling2D, Dropout, Dense, Input\n",
        "from tensorflow.keras.models import Model\n",
        "from tensorflow.keras.optimizers import Adam"
      ]
    },
    {
      "cell_type": "code",
      "source": [
        "# Zde si stáhněte dataset 1: https://www.kaggle.com/datasets/kaggleashwin/vehicle-type-recognition#\n",
        "# Zde si stáhněte dataset 2: https://www.kaggle.com/datasets/mohamedmaher5/vehicle-classification/data"
      ],
      "metadata": {
        "id": "Fz3pB-TeGyCl"
      },
      "id": "Fz3pB-TeGyCl",
      "execution_count": null,
      "outputs": []
    },
    {
      "cell_type": "code",
      "source": [
        "# Rozbalení všech ZIP souborů ve složce ./data\n",
        "\n",
        "# Do data_dir vložte cestu ke staženým datasetům\n",
        "\n",
        "data_dir = \"./data\"\n",
        "\n",
        "for file in os.listdir(data_dir):\n",
        "    if file.endswith(\".zip\"):\n",
        "        file_path = os.path.join(data_dir, file)\n",
        "        with zipfile.ZipFile(file_path, 'r') as zip_ref:\n",
        "            zip_ref.extractall(data_dir)\n",
        "        print(f\"Rozbaleno: {file}\")\n"
      ],
      "metadata": {
        "id": "DVkMkOQNGy9X"
      },
      "id": "DVkMkOQNGy9X",
      "execution_count": null,
      "outputs": []
    },
    {
      "cell_type": "code",
      "execution_count": null,
      "id": "x7oTVf-c8SuG",
      "metadata": {
        "id": "x7oTVf-c8SuG"
      },
      "outputs": [],
      "source": [
        "# Nastavení základních parametrů pro trénování\n",
        "# - train_dirs: složky s daty pro trénink\n",
        "# - test_dirs: složky s daty pro testování\n",
        "# - image_size: velikost obrázků na vstupu modelu\n",
        "# - batch_size: počet obrázků ve várce\n",
        "# - AUTOTUNE: optimalizace výkonu\n",
        "# - ALLOWED_EXT: povolené přípony obrázků\n",
        "# --- Nastavení ---\n",
        "\n",
        "data1 = \"data1\" #Cesta k rozbalenému souboru data1\n",
        "data2 = \"data2\" #Cesta k rozbalenému souboru data2\n",
        "\n",
        "train_dirs = [data1, data2]   # složky s třídami\n",
        "test_dirs  = [data1, data2]  # složky pro test\n",
        "image_size = (224, 224)\n",
        "batch_size = 16\n",
        "AUTOTUNE = tf.data.AUTOTUNE\n",
        "ALLOWED_EXT = (\".jpg\", \".jpeg\", \".png\", \".bmp\", \".tif\", \".tiff\", \".gif\")"
      ]
    },
    {
      "cell_type": "code",
      "execution_count": null,
      "id": "wGLkRm5I8NcQ",
      "metadata": {
        "id": "wGLkRm5I8NcQ"
      },
      "outputs": [],
      "source": [
        "# Načtení tříd (názvy složek) a vytvoření slovníku labelů\n",
        "# Poté se z každé složky načtou cesty k obrázkům a jejich labely\n",
        "# get_filepaths_and_labels vrací listy cest a labely pro trénink a test\n",
        "# --- 1) Najdu třídy a labely ---\n",
        "train_classes = sorted({\n",
        "    cls for d in train_dirs\n",
        "    for cls in os.listdir(d)\n",
        "    if os.path.isdir(os.path.join(d, cls)) and not cls.startswith(\".\")\n",
        "})\n",
        "label_dict = {cls: idx for idx, cls in enumerate(train_classes)}\n",
        "\n",
        "all_sets = [set(train_classes)]\n",
        "for d in test_dirs:\n",
        "    all_sets.append({\n",
        "        cls for cls in os.listdir(d)\n",
        "        if os.path.isdir(os.path.join(d, cls))\n",
        "    })\n",
        "common_classes = sorted(set.intersection(*all_sets))\n",
        "\n",
        "def get_filepaths_and_labels(dirs, classes, label_dict):\n",
        "    paths, labels = [], []\n",
        "    for cls in classes:\n",
        "        for base in dirs:\n",
        "            class_path = os.path.join(base, cls)\n",
        "            if not os.path.isdir(class_path):\n",
        "                continue\n",
        "            for fname in os.listdir(class_path):\n",
        "                if not fname.lower().endswith(ALLOWED_EXT):\n",
        "                    continue\n",
        "                fpath = os.path.join(class_path, fname)\n",
        "                if os.path.isfile(fpath):\n",
        "                    paths.append(fpath)\n",
        "                    labels.append(label_dict[cls])\n",
        "    return paths, labels\n",
        "\n",
        "train_paths, train_labels = get_filepaths_and_labels(train_dirs, train_classes, label_dict)\n",
        "test_paths,  test_labels  = get_filepaths_and_labels(test_dirs,  common_classes,   label_dict)"
      ]
    },
    {
      "cell_type": "code",
      "execution_count": null,
      "id": "885ur4Pv8Gfj",
      "metadata": {
        "id": "885ur4Pv8Gfj"
      },
      "outputs": [],
      "source": [
        "# Kontrola integrity obrázků\n",
        "# Ověřuje, že obrázky nejsou poškozené a dají se načíst\n",
        "# Pomáhá předejít chybám během trénování\n",
        "# --- 2) Důkladná kontrola integrity obrázků ---\n",
        "def filter_valid_images(paths, labels):\n",
        "    valid_paths, valid_labels = [], []\n",
        "    for p, lbl in zip(paths, labels):\n",
        "        try:\n",
        "            # 1) ověření hlavičky\n",
        "            with Image.open(p) as im:\n",
        "                im.verify()\n",
        "            # 2) skutečné načtení dat\n",
        "            with Image.open(p) as im:\n",
        "                im.load()\n",
        "            valid_paths.append(p)\n",
        "            valid_labels.append(lbl)\n",
        "        except Exception:\n",
        "            print(f\"Vynechávám poškozený nebo nekompatibilní soubor: {p}\")\n",
        "    return valid_paths, valid_labels\n",
        "\n",
        "train_paths, train_labels = filter_valid_images(train_paths, train_labels)\n",
        "test_paths,  test_labels  = filter_valid_images(test_paths,  test_labels)"
      ]
    },
    {
      "cell_type": "code",
      "execution_count": null,
      "id": "HM1ziVXm7-Mw",
      "metadata": {
        "id": "HM1ziVXm7-Mw"
      },
      "outputs": [],
      "source": [
        "# Vytvoření pipeline pro TensorFlow\n",
        "# - Načte soubor, dekóduje obrázek, přizpůsobí velikost, normalizuje\n",
        "# --- 3) Sestavení tf.data pipeline ---\n",
        "def parse_and_preprocess(path, label):\n",
        "    img = tf.io.read_file(path)\n",
        "    img = tf.image.decode_image(img, channels=3, expand_animations=False)\n",
        "    img = tf.image.resize(img, image_size)\n",
        "    img = preprocess_input(img)\n",
        "    return img, tf.one_hot(label, len(train_classes))\n",
        "\n",
        "train_ds = (\n",
        "    tf.data.Dataset.from_tensor_slices((train_paths, train_labels))\n",
        "    .shuffle(len(train_paths))\n",
        "    .map(parse_and_preprocess, num_parallel_calls=AUTOTUNE)\n",
        "    .batch(batch_size)\n",
        "    .prefetch(AUTOTUNE)\n",
        ")\n",
        "\n",
        "test_ds = (\n",
        "    tf.data.Dataset.from_tensor_slices((test_paths, test_labels))\n",
        "    .map(parse_and_preprocess, num_parallel_calls=AUTOTUNE)\n",
        "    .batch(batch_size)\n",
        "    .prefetch(AUTOTUNE)\n",
        ")"
      ]
    },
    {
      "cell_type": "code",
      "execution_count": null,
      "id": "F1g_SDhX744u",
      "metadata": {
        "id": "F1g_SDhX744u"
      },
      "outputs": [],
      "source": [
        "# Vytvoření modelu s předtrénovanou sítí ResNet50\n",
        "# - Vstupní vrstva odpovídá velikosti obrázků\n",
        "# - ResNet50 se použije bez horní (klasifikační) vrstvy\n",
        "# - Zmrazí se váhy základního modelu (netrénují se)\n",
        "# - Přidá se pooling, dropout a plně propojená vrstva\n",
        "# - Výstupní vrstva používá softmax aktivaci pro vícetřídovou klasifikaci\n",
        "\n",
        "# --- 4) Model s ResNet50 ---\n",
        "inp = Input(shape=(*image_size, 3))\n",
        "base = ResNet50(weights=\"imagenet\", include_top=False, input_tensor=inp)\n",
        "base.trainable = False  # jen hlavička se trénuje\n",
        "\n",
        "x = GlobalAveragePooling2D()(base.output)\n",
        "x = Dropout(0.5)(x)\n",
        "out = Dense(len(train_classes), activation=\"softmax\")(x)\n",
        "\n",
        "model = Model(inp, out)\n",
        "model.compile(\n",
        "    optimizer=Adam(learning_rate=1e-4),\n",
        "    loss=\"categorical_crossentropy\",\n",
        "    metrics=[\"accuracy\"]\n",
        ")"
      ]
    },
    {
      "cell_type": "code",
      "execution_count": null,
      "id": "TL7wKJZ371o0",
      "metadata": {
        "id": "TL7wKJZ371o0",
        "scrolled": true
      },
      "outputs": [],
      "source": [
        "# Trénink modelu\n",
        "# - Používá se trénovací sada\n",
        "# - Validace probíhá na testovacích datech\n",
        "# - Trénuje se po dobu 5 epoch\n",
        "\n",
        "# --- 5) Trénink ---\n",
        "model.fit(\n",
        "    train_ds,\n",
        "    epochs=20,\n",
        "    validation_data=test_ds,\n",
        "    verbose=1\n",
        ")"
      ]
    },
    {
      "cell_type": "code",
      "execution_count": null,
      "id": "77c3d867-3ae5-4d48-97f7-224991250f0c",
      "metadata": {
        "id": "77c3d867-3ae5-4d48-97f7-224991250f0c"
      },
      "outputs": [],
      "source": [
        "# Vyhodnocení přesnosti modelu na trénovacích a testovacích datech\n",
        "# - Výstupem je loss a přesnost\n",
        "# - Výsledky se vypíšou s přesností na 4 desetinná místa\n",
        "\n",
        "# --- 6) Vyhodnocení ---\n",
        "train_score = model.evaluate(train_ds, verbose=0)\n",
        "test_score  = model.evaluate(test_ds,  verbose=0)\n",
        "print(f\"Train accuracy: {train_score[1]:.4f}\")\n",
        "print(f\" Test accuracy: {test_score[1]:.4f}\")"
      ]
    },
    {
      "cell_type": "code",
      "execution_count": null,
      "id": "OaYPghOQ8c_n",
      "metadata": {
        "id": "OaYPghOQ8c_n"
      },
      "outputs": [],
      "source": [
        "# Vykreslení konfuzní matice\n",
        "# - Pomocí modelu se vytvoří predikce pro testovací data\n",
        "# - Získají se reálné třídy a porovnají se s predikcemi\n",
        "# - Pomocí seaborn se zobrazí matice jako heatmapa\n",
        "\n",
        "# --- 7) Konfuzní matice ---\n",
        "import numpy as np\n",
        "import matplotlib.pyplot as plt\n",
        "import seaborn as sns\n",
        "from sklearn.metrics import confusion_matrix\n",
        "\n",
        "# Společné třídy\n",
        "common_classes = [\"Bus\", \"Car\", \"Motorcycle\", \"Truck\"]\n",
        "common_class_indices = [train_classes.index(cls) for cls in common_classes]\n",
        "\n",
        "# Předpovědi\n",
        "y_pred_probs = model.predict(test_ds)\n",
        "y_pred_all = np.argmax(y_pred_probs, axis=1)\n",
        "y_true_all = np.concatenate([np.argmax(y.numpy(), axis=1) for _, y in test_ds])\n",
        "\n",
        "# Filtr: pouze případy, kdy true i predikce jsou ve společných třídách\n",
        "valid_mask = np.logical_and(\n",
        "    np.isin(y_true_all, common_class_indices),\n",
        "    np.isin(y_pred_all, common_class_indices)\n",
        ")\n",
        "\n",
        "y_true_filtered = y_true_all[valid_mask]\n",
        "y_pred_filtered = y_pred_all[valid_mask]\n",
        "\n",
        "# Přemapování indexů do nového rozsahu 0...len(common_classes)\n",
        "index_mapping = {orig_idx: new_idx for new_idx, orig_idx in enumerate(common_class_indices)}\n",
        "y_true_mapped = np.array([index_mapping[idx] for idx in y_true_filtered])\n",
        "y_pred_mapped = np.array([index_mapping[idx] for idx in y_pred_filtered])\n",
        "\n",
        "# Konfuzní matice\n",
        "cm = confusion_matrix(y_true_mapped, y_pred_mapped)\n",
        "\n",
        "# Zobrazení\n",
        "plt.figure(figsize=(5, 4))\n",
        "sns.heatmap(cm, annot=True, fmt=\"d\", cmap=\"Blues\",\n",
        "            xticklabels=common_classes, yticklabels=common_classes)\n",
        "plt.xlabel(\"Predikovaná třída\")\n",
        "plt.ylabel(\"Skutečná třída\")\n",
        "plt.title(\"Konfuzní matice (jen společné třídy)\")\n",
        "plt.savefig(\"confusion_matrix1.png\", dpi=300, bbox_inches=\"tight\")\n",
        "plt.show()\n",
        "\n"
      ]
    },
    {
      "cell_type": "code",
      "execution_count": null,
      "id": "0c359b71-eaf0-48d2-a0d0-a32dfc63fce1",
      "metadata": {
        "scrolled": true,
        "id": "0c359b71-eaf0-48d2-a0d0-a32dfc63fce1"
      },
      "outputs": [],
      "source": [
        "import requests\n",
        "from PIL import Image\n",
        "from io import BytesIO\n",
        "\n",
        "# URL obrázku\n",
        "url = \"https://s3.eu-central-1.amazonaws.com/tf-prod-plzen/data/photo/1697072/19165074.jpg\"  # <- sem dej platný obrázek\n",
        "url1 = \"https://www.ridimauto.cz/wp-content/uploads/2021/05/bmw-x4.jpg\"\n",
        "url2 = \"https://cdn.britannica.com/17/126517-050-9CDCBDDF/semi-semitrailer-truck-tractor-highway.jpg\"\n",
        "url3 = \"https://images.contentstack.io/v3/assets/blte891c850d5781579/blt53faefb3dffea48c/6452c0632beffe356089eb86/why-is-it-called-a-semi-truck.jpg\"\n",
        "url4 = \"https://img.redbull.com/images/q_auto,f_auto/redbullcom/2016/05/18/1331795515580_2/nejrychlej%C5%A1%C3%AD-motorky-sv%C4%9Bta---mtt-turbine-sbk-y2k.jpg\"\n",
        "\n",
        "# Načtení a otevření obrázku přímo z internetu\n",
        "response = requests.get(url4)\n",
        "im = Image.open(BytesIO(response.content)).convert(\"RGB\")\n",
        "\n",
        "# Pokračuj jako obvykle\n",
        "im = im.resize(image_size)\n",
        "\n",
        "# Zobraz obrázek\n",
        "import matplotlib.pyplot as plt\n",
        "plt.imshow(im)\n",
        "plt.axis(\"off\")\n",
        "plt.title(\"Načtený obrázek\")\n",
        "plt.show()\n",
        "\n",
        "# Předzpracování\n",
        "img_array = tf.keras.preprocessing.image.img_to_array(im)\n",
        "img_array = preprocess_input(img_array)\n",
        "img_array = tf.expand_dims(img_array, axis=0)\n",
        "\n",
        "# Predikce\n",
        "prediction = model.predict(img_array)\n",
        "predicted_label = train_classes[np.argmax(prediction)]\n",
        "\n",
        "print(f\"Predikovaná třída: {predicted_label}\")\n",
        "\n",
        "\n"
      ]
    },
    {
      "cell_type": "code",
      "execution_count": null,
      "id": "2aeb5103-bfde-45f9-8eb4-bf7c002b381c",
      "metadata": {
        "id": "2aeb5103-bfde-45f9-8eb4-bf7c002b381c"
      },
      "outputs": [],
      "source": []
    }
  ],
  "metadata": {
    "colab": {
      "provenance": []
    },
    "kernelspec": {
      "display_name": "Python 3 (ipykernel)",
      "language": "python",
      "name": "python3"
    },
    "language_info": {
      "codemirror_mode": {
        "name": "ipython",
        "version": 3
      },
      "file_extension": ".py",
      "mimetype": "text/x-python",
      "name": "python",
      "nbconvert_exporter": "python",
      "pygments_lexer": "ipython3",
      "version": "3.12.3"
    }
  },
  "nbformat": 4,
  "nbformat_minor": 5
}