{
  "nbformat": 4,
  "nbformat_minor": 0,
  "metadata": {
    "colab": {
      "provenance": [],
      "gpuType": "T4"
    },
    "kernelspec": {
      "name": "python3",
      "display_name": "Python 3"
    },
    "language_info": {
      "name": "python"
    },
    "accelerator": "GPU"
  },
  "cells": [
    {
      "cell_type": "code",
      "execution_count": 1,
      "metadata": {
        "id": "Ecl2Y5YvQ9qD"
      },
      "outputs": [],
      "source": [
        "# Importujeme potřebné knihovny pro práci se soubory (os),\n",
        "# numerickými poli (numpy), načítáním a zpracováním obrázků (skimage),\n",
        "# kódováním štítků (to_categorical), augmentací dat (ImageDataGenerator)\n",
        "# a stavbou neuronové sítě (Keras/TensorFlow).\n",
        "\n",
        "import os\n",
        "import numpy as np\n",
        "import zipfile\n",
        "from skimage import io, transform\n",
        "from skimage.color import rgb2gray\n",
        "from keras.utils import to_categorical\n",
        "from tensorflow.keras.preprocessing.image import ImageDataGenerator\n",
        "from keras.models import Sequential\n",
        "from keras.layers import Conv2D, MaxPooling2D, Dropout, Flatten, Dense"
      ]
    },
    {
      "cell_type": "code",
      "source": [
        "# Zde si stáhněte dataset 1: https://www.kaggle.com/datasets/kaggleashwin/vehicle-type-recognition#\n",
        "# Zde si stáhněte dataset 2: https://www.kaggle.com/datasets/mohamedmaher5/vehicle-classification/data"
      ],
      "metadata": {
        "id": "KF9Pbq1vC9UC"
      },
      "execution_count": 2,
      "outputs": []
    },
    {
      "cell_type": "code",
      "source": [
        "# Rozbalení všech ZIP souborů ve složce ./data\n",
        "\n",
        "# Do data_dir vložte cestu ke staženým datasetům\n",
        "\n",
        "data_dir = \"./data\"\n",
        "\n",
        "for file in os.listdir(data_dir):\n",
        "    if file.endswith(\".zip\"):\n",
        "        file_path = os.path.join(data_dir, file)\n",
        "        with zipfile.ZipFile(file_path, 'r') as zip_ref:\n",
        "            zip_ref.extractall(data_dir)\n",
        "        print(f\"Rozbaleno: {file}\")\n"
      ],
      "metadata": {
        "id": "B42C-7iBEYDV"
      },
      "execution_count": null,
      "outputs": []
    },
    {
      "cell_type": "code",
      "source": [
        "# Definuje seznamy adresářů s trénovacími a testovacími daty\n",
        "# a nastavuje cílovou velikost (rozlišení) obrázků na 100×100 pixelů.\n",
        "\n",
        "data1 = \"data1\" #Cesta k rozbalenému souboru data1\n",
        "data2 = \"data2\" #Cesta k rozbalenému souboru data2\n",
        "\n",
        "\n",
        "train_dirs = [data1, data2]\n",
        "test_dirs  = [data1, data2]\n",
        "image_size = (100, 100)"
      ],
      "metadata": {
        "id": "PbTVLR8PRFQg"
      },
      "execution_count": null,
      "outputs": []
    },
    {
      "cell_type": "code",
      "source": [
        "# Načte názvy tříd z tréninkových složek (seřazené)\n",
        "# a vytvoří slovník label_dict, který mapuje název třídy a číselný index.\n",
        "\n",
        "train_classes = sorted({cls\n",
        "                        for d in train_dirs\n",
        "                        for cls in os.listdir(d) if os.path.isdir(os.path.join(d, cls))})\n",
        "label_dict = {cls: idx for idx, cls in enumerate(train_classes)}"
      ],
      "metadata": {
        "id": "rQRTrZ3LRJ3W"
      },
      "execution_count": null,
      "outputs": []
    },
    {
      "cell_type": "code",
      "source": [
        "# Pro každý testovací adresář zjistí, jaké třídy obsahuje,\n",
        "# a potom vypočítá průnik (společné třídy) mezi všemi sadami.\n",
        "\n",
        "all_sets = [set(train_classes)]\n",
        "for d in test_dirs:\n",
        "    all_sets.append({cls for cls in os.listdir(d) if os.path.isdir(os.path.join(d, cls))})\n",
        "common_classes = sorted(set.intersection(*all_sets))"
      ],
      "metadata": {
        "id": "HblWo_QORMJ8"
      },
      "execution_count": null,
      "outputs": []
    },
    {
      "cell_type": "code",
      "source": [
        "# Definuje funkci load_images(dirs, classes, label_dict),\n",
        "# která projde všechny soubory daných tříd v zadaných složkách,\n",
        "# načte obrázek, změní jeho velikost, převede na odstíny šedi,\n",
        "# přidá do seznamu X a odpovídající label (y) podle label_dict.\n",
        "\n",
        "def load_images(dirs, classes, label_dict):\n",
        "    if isinstance(dirs, str):\n",
        "        dirs = [dirs]\n",
        "    X, y = [], []\n",
        "    for cls in classes:\n",
        "        for d in dirs:\n",
        "            class_path = os.path.join(d, cls)\n",
        "            if not os.path.isdir(class_path):\n",
        "                continue\n",
        "            for fname in os.listdir(class_path):\n",
        "                try:\n",
        "                    img = io.imread(os.path.join(class_path, fname))\n",
        "                    img = transform.resize(img, image_size, anti_aliasing=True)\n",
        "                    img = rgb2gray(img)\n",
        "                    X.append(img)\n",
        "                    y.append(label_dict[cls])\n",
        "                except Exception as e:\n",
        "                    print(f\"Chyba u {fname}: {e}\")\n",
        "    X = np.array(X).reshape(-1, *image_size, 1)\n",
        "    y = np.array(y)\n",
        "    return X, y"
      ],
      "metadata": {
        "id": "69KU3UjJRNzZ"
      },
      "execution_count": null,
      "outputs": []
    },
    {
      "cell_type": "code",
      "source": [
        "# Načte trénovací (X_train, y_train) a testovací (X_test, y_test) data\n",
        "# pomocí výše definované funkce load_images.\n",
        "\n",
        "X_train, y_train = load_images(train_dirs, train_classes, label_dict)\n",
        "X_test,  y_test  = load_images(test_dirs,  common_classes, label_dict)"
      ],
      "metadata": {
        "id": "HQGKT4ZORP5z"
      },
      "execution_count": null,
      "outputs": []
    },
    {
      "cell_type": "code",
      "source": [
        "# Převede jednorozměrné labely y_train/y_test na one-hot\n",
        "# pro vícetřídovou klasifikaci a vypíše tvary dat a seznam tříd.\n",
        "\n",
        "Y_train = to_categorical(y_train, num_classes=len(train_classes))\n",
        "Y_test  = to_categorical(y_test,  num_classes=len(train_classes))\n",
        "\n",
        "print(\"Train:\", X_train.shape, \"| Test:\", X_test.shape)\n",
        "print(\"Trénuji na třídách:\", train_classes)\n",
        "print(\"Testuji jen na společných:\", common_classes)"
      ],
      "metadata": {
        "id": "Vs36dYFMRRsX"
      },
      "execution_count": null,
      "outputs": []
    },
    {
      "cell_type": "code",
      "source": [
        "# Vytvoří konvoluční neuronovou síť (Sequential) s vrstvami:\n",
        "# dvěma Conv2D + MaxPooling, Dropout, Flatten, Dense + Dropout,\n",
        "# a na závěr Dense s aktivací softmax pro klasifikaci do počtu tříd.\n",
        "# Poté model zkompiluje s loss='categorical_crossentropy',\n",
        "# optimalizátorem 'adam' a metrikou 'accuracy'.\n",
        "\n",
        "model = Sequential([\n",
        "    Conv2D(64, (3,3), activation='relu', input_shape=(*image_size,1)),\n",
        "    Conv2D(64, (3,3), activation='relu'),\n",
        "    MaxPooling2D((2,2)),\n",
        "    Dropout(0.5),\n",
        "    Flatten(),\n",
        "    Dense(128, activation='relu'),\n",
        "    Dropout(0.25),\n",
        "    Dense(len(train_classes), activation='softmax'),\n",
        "])\n",
        "model.compile(loss='categorical_crossentropy', optimizer='adam', metrics=['accuracy'])\n"
      ],
      "metadata": {
        "id": "SjUUbOpcRTpY"
      },
      "execution_count": null,
      "outputs": []
    },
    {
      "cell_type": "code",
      "source": [
        "#  Nastaví augmentaci trénovacích dat pomocí ImageDataGenerator\n",
        "# (oříznutí, posuny, zoom, horizontální převrácení),\n",
        "# fitne na X_train a spustí trénink modelu na 50 epochách.\n",
        "\n",
        "datagen = ImageDataGenerator(\n",
        "    rotation_range=20, width_shift_range=0.1,\n",
        "    height_shift_range=0.1, zoom_range=0.1,\n",
        "    horizontal_flip=True\n",
        ")\n",
        "datagen.fit(X_train)\n",
        "model.fit(datagen.flow(X_train, Y_train, batch_size=64),\n",
        "          epochs=50, verbose=1)"
      ],
      "metadata": {
        "id": "NYJbs50ERXMo"
      },
      "execution_count": null,
      "outputs": []
    },
    {
      "cell_type": "code",
      "source": [
        "# Vyhodnotí trénovaný model na trénovacích i testovacích datech\n",
        "# a vytiskne přesnost (accuracy) pro obě sady.\n",
        "\n",
        "train_score = model.evaluate(X_train, Y_train, verbose=0)\n",
        "test_score  = model.evaluate(X_test,  Y_test,  verbose=0)\n",
        "print(f\"Train accuracy: {train_score[1]:.4f}\")\n",
        "print(f\" Test accuracy: {test_score[1]:.4f}\")"
      ],
      "metadata": {
        "id": "zLul0YCmRZOj"
      },
      "execution_count": null,
      "outputs": []
    },
    {
      "cell_type": "code",
      "source": [
        "import numpy as np\n",
        "import matplotlib.pyplot as plt\n",
        "import seaborn as sns\n",
        "from sklearn.metrics import confusion_matrix\n",
        "\n",
        "# Předpovědi modelu (pravděpodobnosti)\n",
        "y_pred_probs = model.predict(test_ds)\n",
        "y_pred = np.argmax(y_pred_probs, axis=1)\n",
        "\n",
        "# Skutečné hodnoty ze vstupu\n",
        "y_true = np.concatenate([np.argmax(y.numpy(), axis=1) for _, y in test_ds])\n",
        "\n",
        "# Výpočet konfuzní matice\n",
        "cm = confusion_matrix(y_true, y_pred)\n",
        "\n",
        "# Zobrazení\n",
        "plt.figure(figsize=(10, 8))\n",
        "sns.heatmap(cm, annot=True, fmt=\"d\", cmap=\"Blues\",\n",
        "            xticklabels=train_classes, yticklabels=train_classes)\n",
        "plt.xlabel(\"Predikovaná třída\")\n",
        "plt.ylabel(\"Skutečná třída\")\n",
        "plt.title(\"Konfuzní matice\")\n",
        "plt.show()\n"
      ],
      "metadata": {
        "id": "kvG0ku104VOB"
      },
      "execution_count": null,
      "outputs": []
    },
    {
      "cell_type": "code",
      "source": [
        "import requests\n",
        "from PIL import Image\n",
        "from io import BytesIO\n",
        "\n",
        "# URL obrázku – nahraď jiným, pokud chceš\n",
        "url = \"https://upload.wikimedia.org/wikipedia/commons/4/47/American_bulldog.jpg\"\n",
        "\n",
        "# Načtení obrázku\n",
        "response = requests.get(url)\n",
        "image = Image.open(BytesIO(response.content)).convert(\"RGB\")\n",
        "image = image.resize(image_size)\n",
        "\n",
        "# Zobrazení obrázku\n",
        "import matplotlib.pyplot as plt\n",
        "plt.imshow(image)\n",
        "plt.axis(\"off\")\n",
        "plt.title(\"Načtený obrázek z internetu\")\n",
        "plt.show()\n",
        "\n",
        "# Předzpracování\n",
        "img_array = tf.keras.preprocessing.image.img_to_array(image)\n",
        "img_array = preprocess_input(img_array)\n",
        "img_array = tf.expand_dims(img_array, axis=0)\n",
        "\n",
        "# Predikce\n",
        "prediction = model.predict(img_array)\n",
        "predicted_label = train_classes[np.argmax(prediction)]\n",
        "\n",
        "print(f\"Predikovaná třída: {predicted_label}\")\n"
      ],
      "metadata": {
        "id": "ILZBlCIM4Xpp"
      },
      "execution_count": null,
      "outputs": []
    }
  ]
}